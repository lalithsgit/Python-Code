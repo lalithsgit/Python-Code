{
 "cells": [
  {
   "cell_type": "markdown",
   "metadata": {},
   "source": [
    "1. Collatz Conjecture - Start with a number n > 1. Find the number of steps it takes to reach one using the following process: If n is even, divide it by 2. If n is odd, multiply it by 3 and add 1."
   ]
  },
  {
   "cell_type": "code",
   "execution_count": 54,
   "metadata": {},
   "outputs": [],
   "source": [
    "def collatz_conjecture(n=1):\n",
    "    steps=0\n",
    "    x=n   \n",
    "    if n<=1: return '# of steps : 0'\n",
    "    while int(x)>1:\n",
    "        steps+=1 # counter to count number of steps taken to reach 1\n",
    "        if x%2 == 0: #if the number is even, divide by 2 and continue  \n",
    "            x=x/2 \n",
    "        else: #if odd, multiply with 3 and add 1 and repeat\n",
    "            x=x*3+1\n",
    "    return '# of steps :' + str(steps)"
   ]
  },
  {
   "cell_type": "code",
   "execution_count": 57,
   "metadata": {},
   "outputs": [
    {
     "data": {
      "text/plain": [
       "'# of steps :7'"
      ]
     },
     "execution_count": 57,
     "metadata": {},
     "output_type": "execute_result"
    }
   ],
   "source": [
    "collatz_conjecture(3)"
   ]
  },
  {
   "cell_type": "markdown",
   "metadata": {},
   "source": [
    "2. Coin Flip Simulation - Write some code that simulates flipping a single coin however many times the user decides. The code should record the outcomes and count the number of tails and heads."
   ]
  },
  {
   "cell_type": "code",
   "execution_count": 2,
   "metadata": {},
   "outputs": [],
   "source": [
    "import random"
   ]
  },
  {
   "cell_type": "code",
   "execution_count": 25,
   "metadata": {},
   "outputs": [],
   "source": [
    "def coin_flip_simulation(n=2):\n",
    "    #counters to record the outcomes.\n",
    "    heads=0\n",
    "    tails=0\n",
    "    for i in range(n):\n",
    "        #using randint, we assume an outcome of 1 is Heads while 0 is Tails\n",
    "        outcome = random.randint(0, 1)\n",
    "        if outcome == 1:\n",
    "            heads+=1\n",
    "        else:\n",
    "            tails+=1\n",
    "    return f'OUTCOME: Heads = {heads} and Tails = {tails}'"
   ]
  },
  {
   "cell_type": "code",
   "execution_count": 27,
   "metadata": {},
   "outputs": [
    {
     "data": {
      "text/plain": [
       "'OUTCOME: Heads = 3 and Tails = 6'"
      ]
     },
     "execution_count": 27,
     "metadata": {},
     "output_type": "execute_result"
    }
   ],
   "source": [
    "coin_flip_simulation(9)"
   ]
  },
  {
   "cell_type": "markdown",
   "metadata": {},
   "source": [
    "3. Country from IP Lookup - Enter an IP address and find the country that IP is registered in. Optional: Find the Ip automatically."
   ]
  },
  {
   "cell_type": "code",
   "execution_count": 6,
   "metadata": {},
   "outputs": [],
   "source": [
    "from urllib.request import urlopen\n",
    "import json\n",
    "import re"
   ]
  },
  {
   "cell_type": "code",
   "execution_count": 15,
   "metadata": {},
   "outputs": [],
   "source": [
    "def getCountryFromIP(IP =''):\n",
    "    if IP =='':\n",
    "        data = str(urlopen('http://checkip.dyndns.com/').read())\n",
    "        url = 'http://ipinfo.io/' + str(re.compile(r'Address: (\\d+.\\d+.\\d+.\\d+)').search(data).group(1)) + '/json'\n",
    "    else:\n",
    "        url = 'http://ipinfo.io/' + IP + '/json'\n",
    "        \n",
    "    country = ''\n",
    "    response = urlopen(url)\n",
    "    data = json.load(response)\n",
    "    return data['country']"
   ]
  },
  {
   "cell_type": "code",
   "execution_count": 16,
   "metadata": {},
   "outputs": [
    {
     "data": {
      "text/plain": [
       "'US'"
      ]
     },
     "execution_count": 16,
     "metadata": {},
     "output_type": "execute_result"
    }
   ],
   "source": [
    "getCountryFromIP()"
   ]
  },
  {
   "cell_type": "code",
   "execution_count": 18,
   "metadata": {},
   "outputs": [
    {
     "data": {
      "text/plain": [
       "'192.168.1.7'"
      ]
     },
     "execution_count": 18,
     "metadata": {},
     "output_type": "execute_result"
    }
   ],
   "source": [
    "#import socket\n",
    "#socket.gethostbyname(socket.gethostname())"
   ]
  },
  {
   "cell_type": "markdown",
   "metadata": {},
   "source": [
    "4. Shape Area and Perimeter Classes - Create an abstract class called Shape and then inherit from it other shapes like diamond, square, circle, triangle etc. Then have each class override the area and perimeter functionality to handle each shape type."
   ]
  },
  {
   "cell_type": "code",
   "execution_count": 53,
   "metadata": {},
   "outputs": [],
   "source": [
    "class Shape():\n",
    "    ##BASE/ABSTRACT CLASS\n",
    "\n",
    "    def area(self): \n",
    "        #ABSTRACT METHOD – DOES NOT EXPECT TO BE IMPLEMENTED\n",
    "        raise NotImplementedError('Subclass must implement this abstract method')\n",
    "        \n",
    "    def perimeter(self): \n",
    "        #ABSTRACT METHOD – DOES NOT EXPECT TO BE IMPLEMENTED\n",
    "        raise NotImplementedError('Subclass must implement this abstract method')\n",
    "    def __str__(self):\n",
    "        pass"
   ]
  },
  {
   "cell_type": "code",
   "execution_count": 58,
   "metadata": {},
   "outputs": [],
   "source": [
    "class Circle(Shape):\n",
    "    #Circle inherits from Shape abstract class\n",
    "    def __init__(self,radius):\n",
    "        self.radius = radius\n",
    "    \n",
    "    def area(self):\n",
    "        return 3.14 * self.radius ** 2\n",
    "\n",
    "    def perimeter(self):\n",
    "        return 2 * 3.14 * self.radius\n",
    "    \n",
    "    def __str__(self):\n",
    "        return f\"Area of this circle : {self.area()}\\nPerimeter of this circle : {self.perimeter()}\""
   ]
  },
  {
   "cell_type": "code",
   "execution_count": 59,
   "metadata": {},
   "outputs": [
    {
     "name": "stdout",
     "output_type": "stream",
     "text": [
      "Area of this circle : 314.0\n",
      "Perimeter of this circle : 62.800000000000004\n"
     ]
    }
   ],
   "source": [
    "c = Circle(10)\n",
    "print(c)"
   ]
  },
  {
   "cell_type": "code",
   "execution_count": 57,
   "metadata": {},
   "outputs": [],
   "source": [
    "class Square(Shape):\n",
    "    #Circle inherits from Shape abstract class\n",
    "    def __init__(self,length):\n",
    "        self.length = length\n",
    "    \n",
    "    def area(self):\n",
    "        return self.length ** 2\n",
    "\n",
    "    def perimeter(self):\n",
    "        return 4 * self.length\n",
    "    \n",
    "    def __str__(self):\n",
    "        return f\"Area of this square : {self.area()}\\nPerimeter of this square : {self.perimeter()}\""
   ]
  },
  {
   "cell_type": "code",
   "execution_count": 60,
   "metadata": {},
   "outputs": [
    {
     "name": "stdout",
     "output_type": "stream",
     "text": [
      "Area of this square : 5.289999999999999\n",
      "Perimeter of this square : 9.2\n"
     ]
    }
   ],
   "source": [
    "s = Square(2.3)\n",
    "print(s)"
   ]
  },
  {
   "cell_type": "code",
   "execution_count": 55,
   "metadata": {},
   "outputs": [],
   "source": [
    "class Triangle(Shape):\n",
    "    #Circle inherits from Shape abstract class\n",
    "    def __init__(self,base,side1,side2):\n",
    "        self.base = base\n",
    "        self.side1 = side1\n",
    "        self.side2 = side2\n",
    "    \n",
    "    def area(self):\n",
    "        #https://www.mathopenref.com/heronsformula.html\n",
    "        p = self.perimeter()    \n",
    "        return (p * (p-self.base) * (p-self.side1) *(p-self.side2)) ** 0.5\n",
    "\n",
    "    def perimeter(self):\n",
    "        return (self.side1 + self.side2 + self.base)/2\n",
    "    \n",
    "    def __str__(self):\n",
    "        return f\"Area of this triangle : {self.area()}\\nPerimeter of this triangle : {self.perimeter()}\""
   ]
  },
  {
   "cell_type": "code",
   "execution_count": 56,
   "metadata": {},
   "outputs": [
    {
     "name": "stdout",
     "output_type": "stream",
     "text": [
      "Area of this triangle : 216.0\n",
      "Perimeter of this triangle : 36.0\n"
     ]
    }
   ],
   "source": [
    "t = Triangle(24,18,30)\n",
    "print(t)"
   ]
  },
  {
   "cell_type": "markdown",
   "metadata": {},
   "source": [
    "8. Security\n",
    "Caesar cipher - Implement a Caesar cipher, both encoding and decoding. The key is an integer from 1 to 25. This cipher rotates the letters of the alphabet (A to Z). The encoding replaces each letter with the 1st to 25th next letter in the alphabet (wrapping Z to A). So key 2 encrypts \"HI\" to \"JK\", but key 20 encrypts \"HI\" to \"BC\". This simple \"monoalphabetic substitution cipher\" provides almost no security, because an attacker who has the encoded message can either use frequency analysis to guess the key, or just try all 25 keys"
   ]
  },
  {
   "cell_type": "code",
   "execution_count": null,
   "metadata": {},
   "outputs": [],
   "source": [
    "\n"
   ]
  },
  {
   "cell_type": "code",
   "execution_count": null,
   "metadata": {},
   "outputs": [],
   "source": []
  },
  {
   "cell_type": "code",
   "execution_count": null,
   "metadata": {},
   "outputs": [],
   "source": []
  },
  {
   "cell_type": "code",
   "execution_count": null,
   "metadata": {},
   "outputs": [],
   "source": []
  },
  {
   "cell_type": "code",
   "execution_count": null,
   "metadata": {},
   "outputs": [],
   "source": []
  },
  {
   "cell_type": "code",
   "execution_count": null,
   "metadata": {},
   "outputs": [],
   "source": []
  },
  {
   "cell_type": "code",
   "execution_count": null,
   "metadata": {},
   "outputs": [],
   "source": []
  },
  {
   "cell_type": "markdown",
   "metadata": {},
   "source": [
    "9. Page Scraper - Create an application which connects to a site and pulls out all links, or images, and saves them to a list. Optional: Organize the indexed content and don’t allow duplicates. Have it put the results into an easily searchable index file."
   ]
  },
  {
   "cell_type": "code",
   "execution_count": null,
   "metadata": {},
   "outputs": [],
   "source": []
  },
  {
   "cell_type": "code",
   "execution_count": null,
   "metadata": {},
   "outputs": [],
   "source": []
  },
  {
   "cell_type": "code",
   "execution_count": null,
   "metadata": {},
   "outputs": [],
   "source": []
  }
 ],
 "metadata": {
  "kernelspec": {
   "display_name": "Python 3",
   "language": "python",
   "name": "python3"
  },
  "language_info": {
   "codemirror_mode": {
    "name": "ipython",
    "version": 3
   },
   "file_extension": ".py",
   "mimetype": "text/x-python",
   "name": "python",
   "nbconvert_exporter": "python",
   "pygments_lexer": "ipython3",
   "version": "3.7.3"
  }
 },
 "nbformat": 4,
 "nbformat_minor": 2
}
